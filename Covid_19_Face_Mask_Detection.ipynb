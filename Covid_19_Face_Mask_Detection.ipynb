{
  "nbformat": 4,
  "nbformat_minor": 0,
  "metadata": {
    "colab": {
      "name": "Covid-19 Face Mask Detection.ipynb",
      "provenance": [],
      "collapsed_sections": [
        "eTxOhS8brv3q",
        "ECQdqCO-Ytx8",
        "m8YtQCtQyrxq",
        "d0410JRuhB6U",
        "EZwHKA9Gy1Fw",
        "cgbFKjPNM2UF",
        "_s8RnmP0bN-L"
      ],
      "toc_visible": true
    },
    "kernelspec": {
      "name": "python3",
      "display_name": "Python 3"
    },
    "accelerator": "GPU"
  },
  "cells": [
    {
      "cell_type": "code",
      "metadata": {
        "id": "Ij7XsORvibmX"
      },
      "source": [
        "import zipfile\n",
        "with zipfile.ZipFile('/content/drive/My Drive/face-mask-detector.zip', 'r') as zip_ref:\n",
        "    zip_ref.extractall('/content/drive/My Drive/')"
      ],
      "execution_count": null,
      "outputs": []
    },
    {
      "cell_type": "code",
      "metadata": {
        "id": "9fXlb1_Xo46M",
        "outputId": "7271d2db-a6aa-4893-9dd0-5825f2405fe1",
        "colab": {
          "base_uri": "https://localhost:8080/",
          "height": 34
        }
      },
      "source": [
        "%cd /content/drive/My\\ Drive/face-mask-detector"
      ],
      "execution_count": null,
      "outputs": [
        {
          "output_type": "stream",
          "text": [
            "/content/drive/My Drive/face-mask-detector\n"
          ],
          "name": "stdout"
        }
      ]
    },
    {
      "cell_type": "code",
      "metadata": {
        "id": "aBvwaNKaouFM",
        "outputId": "f770d857-1709-4827-f44d-b69a8d759bbb",
        "colab": {
          "base_uri": "https://localhost:8080/",
          "height": 34
        }
      },
      "source": [
        "%pwd"
      ],
      "execution_count": null,
      "outputs": [
        {
          "output_type": "execute_result",
          "data": {
            "text/plain": [
              "'/content/drive/My Drive/face-mask-detector'"
            ]
          },
          "metadata": {
            "tags": []
          },
          "execution_count": 3
        }
      ]
    },
    {
      "cell_type": "markdown",
      "metadata": {
        "id": "ECQdqCO-Ytx8"
      },
      "source": [
        "**First Step is to Train Model**\n",
        "\n",
        "\n"
      ]
    },
    {
      "cell_type": "code",
      "metadata": {
        "id": "b7HzGdw7onVv"
      },
      "source": [
        "!python train_mask_detector.py --dataset dataset"
      ],
      "execution_count": null,
      "outputs": []
    },
    {
      "cell_type": "markdown",
      "metadata": {
        "id": "m8YtQCtQyrxq"
      },
      "source": [
        "**Predict on Single Image**"
      ]
    },
    {
      "cell_type": "code",
      "metadata": {
        "id": "JemeauwhjdY7"
      },
      "source": [
        "# USAGE\n",
        "# Give input image file path (check other paths also)\n",
        "\n",
        "# import the necessary packages\n",
        "from tensorflow.keras.applications.mobilenet_v2 import preprocess_input\n",
        "from tensorflow.keras.preprocessing.image import img_to_array\n",
        "from tensorflow.keras.models import load_model\n",
        "import numpy as np\n",
        "import argparse\n",
        "import cv2\n",
        "import os\n",
        "from google.colab.patches import cv2_imshow\n",
        "from natsort import natsorted, ns\n",
        "\n",
        "input_file_path = \"/content/drive/My Drive/face-mask-detector/examples/example_01.png\"\n",
        "\n",
        "# load our serialized face detector model from disk\n",
        "print(\"[INFO] loading face detector model...\")\n",
        "prototxtPath = \"/content/drive/My Drive/face-mask-detector/face_detector/deploy.prototxt\"\n",
        "weightsPath = \"/content/drive/My Drive/face-mask-detector/face_detector/res10_300x300_ssd_iter_140000.caffemodel\"\n",
        "net = cv2.dnn.readNet(prototxtPath, weightsPath)\n",
        "\n",
        "# load the face mask detector model from disk\n",
        "print(\"[INFO] loading face mask detector model...\")\n",
        "model = load_model(\"mask_detector.model\")\n",
        "\n",
        "def process_images(input_file_path):\n",
        "\t# load the input image from disk, clone it, and grab the image spatial\n",
        "  # dimensions\n",
        "\timage = cv2.imread(input_file_path)\n",
        "\t# orig = image.copy()\n",
        "\t(h, w) = image.shape[:2]\n",
        "\n",
        "\t# construct a blob from the image\n",
        "\tblob = cv2.dnn.blobFromImage(image, 1.0, (300, 300),\n",
        "\t\t(104.0, 177.0, 123.0))\n",
        "\n",
        "\t# pass the blob through the network and obtain the face detections\n",
        "\tprint(\"[INFO] computing face detections...\")\n",
        "\tnet.setInput(blob)\n",
        "\tdetections = net.forward()\n",
        "\n",
        "\t# loop over the detections\n",
        "\tfor i in range(0, detections.shape[2]):\n",
        "\t\t# extract the confidence (i.e., probability) associated with\n",
        "\t\t# the detection\n",
        "\t\tconfidence = detections[0, 0, i, 2]\n",
        "\n",
        "\t\t# filter out weak detections by ensuring the confidence is\n",
        "\t\t# greater than the minimum confidence\n",
        "\t\tif confidence > 0.5:\n",
        "\t\t\t# compute the (x, y)-coordinates of the bounding box for\n",
        "\t\t\t# the object\n",
        "\t\t\tbox = detections[0, 0, i, 3:7] * np.array([w, h, w, h])\n",
        "\t\t\t(startX, startY, endX, endY) = box.astype(\"int\")\n",
        "\n",
        "\t\t\t# ensure the bounding boxes fall within the dimensions of\n",
        "\t\t\t# the frame\n",
        "\t\t\t(startX, startY) = (max(0, startX), max(0, startY))\n",
        "\t\t\t(endX, endY) = (min(w - 1, endX), min(h - 1, endY))\n",
        "\n",
        "\t\t\t# extract the face ROI, convert it from BGR to RGB channel\n",
        "\t\t\t# ordering, resize it to 224x224, and preprocess it\n",
        "\t\t\tface = image[startY:endY, startX:endX]\n",
        "\t\t\tface = cv2.cvtColor(face, cv2.COLOR_BGR2RGB)\n",
        "\t\t\tface = cv2.resize(face, (224, 224))\n",
        "\t\t\tface = img_to_array(face)\n",
        "\t\t\tface = preprocess_input(face)\n",
        "\t\t\tface = np.expand_dims(face, axis=0)\n",
        "\n",
        "\t\t\t# pass the face through the model to determine if the face\n",
        "\t\t\t# has a mask or not\n",
        "\t\t\t(mask, withoutMask) = model.predict(face)[0]\n",
        "\n",
        "\t\t\t# determine the class label and color we'll use to draw\n",
        "\t\t\t# the bounding box and text\n",
        "\t\t\tlabel = \"Mask\" if mask > withoutMask else \"No Mask\"\n",
        "\t\t\tcolor = (0, 255, 0) if label == \"Mask\" else (0, 0, 255)\n",
        "\n",
        "\t\t\t# include the probability in the label\n",
        "\t\t\tlabel = \"{}: {:.2f}%\".format(label, max(mask, withoutMask) * 100)\n",
        "\n",
        "\t\t\t# display the label and bounding box rectangle on the output\n",
        "\t\t\t# frame\n",
        "\t\t\tcv2.putText(image, label, (startX, startY - 10),\n",
        "\t\t\t\tcv2.FONT_HERSHEY_SIMPLEX, 0.45, color, 2)\n",
        "\t\t\tcv2.rectangle(image, (startX, startY), (endX, endY), color, 2)\n",
        "\n",
        "\t# show the output image\n",
        "\tsave_path = input_file_path.split(\".\",1)\n",
        "\t# print (save_path[0])\n",
        "\t# print (save_path[-1])\n",
        "\tcv2_imshow(image)\n",
        "\t# cv2.imwrite(save_path[0] + \"_pred.\" + save_path[-1],image)\n",
        "\n",
        "#start the process\n",
        "process_images(input_file_path)"
      ],
      "execution_count": null,
      "outputs": []
    },
    {
      "cell_type": "markdown",
      "metadata": {
        "id": "d0410JRuhB6U"
      },
      "source": [
        "**Predict on Multiple Images and make a MP4 video**"
      ]
    },
    {
      "cell_type": "code",
      "metadata": {
        "id": "poqfh97Sg-pY"
      },
      "source": [
        "# USAGE\n",
        "# Give input images directory and output store directory\n",
        "\n",
        "# import the necessary packages\n",
        "from tensorflow.keras.applications.mobilenet_v2 import preprocess_input\n",
        "from tensorflow.keras.preprocessing.image import img_to_array\n",
        "from tensorflow.keras.models import load_model\n",
        "import numpy as np\n",
        "import argparse\n",
        "import cv2\n",
        "import os\n",
        "from google.colab.patches import cv2_imshow\n",
        "from natsort import natsorted, ns\n",
        "\n",
        "# input_file_path = \"/content/drive/My Drive/my_projects/face_mask_detector/testSet/pic7.jpg\"\n",
        "input_folder_path = \"/content/drive/My Drive/face-mask-detector/examples/\"\n",
        "output_folder_path = \"/content/drive/My Drive/face-mask-detector/test_OUTPUT.mp4\"\n",
        "\n",
        "# load our serialized face detector model from disk\n",
        "print(\"[INFO] loading face detector model...\")\n",
        "prototxtPath = \"/content/drive/My Drive/face-mask-detector/face_detector/deploy.prototxt\"\n",
        "weightsPath = \"/content/drive/My Drive/face-mask-detector/face_detector/res10_300x300_ssd_iter_140000.caffemodel\"\n",
        "net = cv2.dnn.readNet(prototxtPath, weightsPath)\n",
        "\n",
        "# load the face mask detector model from disk\n",
        "print(\"[INFO] loading face mask detector model...\")\n",
        "model = load_model(\"mask_detector.model\")\n",
        "\n",
        "img_array = []\n",
        "\n",
        "def process_images(input_file_path,count):\n",
        "\t# load the input image from disk, clone it, and grab the image spatial\n",
        "  # dimensions\n",
        "\timage = cv2.imread(input_file_path)\n",
        "\torig = image.copy()\n",
        "\t(h, w) = image.shape[:2]\n",
        "\n",
        "\t# construct a blob from the image\n",
        "\tblob = cv2.dnn.blobFromImage(image, 1.0, (300, 300),\n",
        "\t\t(104.0, 177.0, 123.0))\n",
        "\n",
        "\t# pass the blob through the network and obtain the face detections\n",
        "\t# print(\"[INFO] computing face detections...\")\n",
        "\tnet.setInput(blob)\n",
        "\tdetections = net.forward()\n",
        "\t\n",
        "\n",
        "\t# loop over the detections\n",
        "\tfor i in range(0, detections.shape[2]):\n",
        "\t\t# extract the confidence (i.e., probability) associated with\n",
        "\t\t# the detection\n",
        "\t\tconfidence = detections[0, 0, i, 2]\n",
        "\n",
        "\t\t# filter out weak detections by ensuring the confidence is\n",
        "\t\t# greater than the minimum confidence\n",
        "\t\tif confidence > 0.5:\n",
        "\t\t\t# compute the (x, y)-coordinates of the bounding box for\n",
        "\t\t\t# the object\n",
        "\t\t\tbox = detections[0, 0, i, 3:7] * np.array([w, h, w, h])\n",
        "\t\t\t(startX, startY, endX, endY) = box.astype(\"int\")\n",
        "\n",
        "\t\t\t# ensure the bounding boxes fall within the dimensions of\n",
        "\t\t\t# the frame\n",
        "\t\t\t(startX, startY) = (max(0, startX), max(0, startY))\n",
        "\t\t\t(endX, endY) = (min(w - 1, endX), min(h - 1, endY))\n",
        "\n",
        "\t\t\t# extract the face ROI, convert it from BGR to RGB channel\n",
        "\t\t\t# ordering, resize it to 224x224, and preprocess it\n",
        "\t\t\tface = image[startY:endY, startX:endX]\n",
        "\t\t\tface = cv2.cvtColor(face, cv2.COLOR_BGR2RGB)\n",
        "\t\t\tface = cv2.resize(face, (224, 224))\n",
        "\t\t\tface = img_to_array(face)\n",
        "\t\t\tface = preprocess_input(face)\n",
        "\t\t\tface = np.expand_dims(face, axis=0)\n",
        "\n",
        "\t\t\t# pass the face through the model to determine if the face\n",
        "\t\t\t# has a mask or not\n",
        "\t\t\t(mask, withoutMask) = model.predict(face)[0]\n",
        "\n",
        "\t\t\t# determine the class label and color we'll use to draw\n",
        "\t\t\t# the bounding box and text\n",
        "\t\t\tlabel = \"Mask\" if mask > withoutMask else \"No Mask\"\n",
        "\t\t\tcolor = (0, 255, 0) if label == \"Mask\" else (0, 0, 255)\n",
        "\n",
        "\t\t\t# include the probability in the label\n",
        "\t\t\tlabel = \"{}: {:.2f}%\".format(label, max(mask, withoutMask) * 100)\n",
        "\n",
        "\t\t\t# display the label and bounding box rectangle on the output\n",
        "\t\t\t# frame\n",
        "\t\t\tcv2.putText(image, label, (startX, startY - 10),\n",
        "\t\t\t\tcv2.FONT_HERSHEY_SIMPLEX, 1, color, 2)\n",
        "\t\t\tcv2.rectangle(image, (startX, startY), (endX, endY), color, 5)\n",
        "\n",
        "\t# show the output image\n",
        "\t\n",
        "\t# cv2_imshow(image)\n",
        "\theight, width, layers = image.shape\n",
        "\tsize = (width,height)\n",
        "\timg_array.append(image)\n",
        "\t# resized_frame = cv2.resize(image, (400, 225))\n",
        "\tcount+=1\n",
        "\t# video.write(resized_frame)\n",
        "\tprint (\"\\r[INFO] Count: {}\".format(count),end='')\n",
        "\treturn size, count\n",
        "\t# cv2.imwrite(save_path,image)\n",
        "\n",
        "#start the process\n",
        "x = os.listdir(input_folder_path)\n",
        "sorted_path = natsorted(x, key=lambda y: y.lower())\n",
        "count = 0\n",
        "print (\"[INFO] Total files: {}\".format(len(x)))\n",
        "for k in sorted_path: \n",
        " file_path = input_folder_path + k\n",
        " print (\"\\r[INFO] File name: {}\".format(file_path))\n",
        " size, count = process_images(file_path,count)\n",
        "\n",
        "print (\"\\n[INFO] Total count/frames: {}\".format(count))\n",
        "\n",
        "#Saving all output frames as MP4 video\n",
        "print (\"[INFO] Saving video\")\n",
        "video = cv2.VideoWriter(output_folder_path, cv2.VideoWriter_fourcc(*'DIVX'), 1, size)\n",
        " \n",
        "for i in range(len(img_array)):\n",
        "    video.write(img_array[i])\n",
        "video.release()\n",
        "print (\"[INFO] process complete.\")\n"
      ],
      "execution_count": null,
      "outputs": []
    },
    {
      "cell_type": "markdown",
      "metadata": {
        "id": "EZwHKA9Gy1Fw"
      },
      "source": [
        "**Predict Using Video frames**"
      ]
    },
    {
      "cell_type": "code",
      "metadata": {
        "id": "yDZgSIxAncAs",
        "outputId": "1198ce8e-f4fd-45ce-ef32-cf97761ec314",
        "colab": {
          "base_uri": "https://localhost:8080/",
          "height": 139
        }
      },
      "source": [
        "# USAGE\n",
        "# python detect_mask_video.py\n",
        "\n",
        "# import the necessary packages\n",
        "from tensorflow.keras.applications.mobilenet_v2 import preprocess_input\n",
        "from tensorflow.keras.preprocessing.image import img_to_array\n",
        "from tensorflow.keras.models import load_model\n",
        "from imutils.video import VideoStream\n",
        "import numpy as np\n",
        "import argparse\n",
        "import imutils\n",
        "import time\n",
        "import cv2\n",
        "import os\n",
        "from imutils.video import FPS\n",
        "\n",
        "from google.colab.patches import cv2_imshow\n",
        "import pdb\n",
        "\n",
        "#Input video file path\n",
        "input_video_path = \"/content/drive/My Drive/test_vid.mp4\"\n",
        "\n",
        "def detect_and_predict_mask(frame, faceNet, maskNet):\n",
        "\t# grab the dimensions of the frame and then construct a blob\n",
        "\t# from it\n",
        "\t(h, w) = frame.shape[:2]\n",
        "\tblob = cv2.dnn.blobFromImage(frame, 1.0, (300, 300),\n",
        "\t\t(104.0, 177.0, 123.0))\n",
        "\n",
        "\t# pass the blob through the network and obtain the face detections\n",
        "\tfaceNet.setInput(blob)\n",
        "\tdetections = faceNet.forward()\n",
        "\n",
        "\t# initialize our list of faces, their corresponding locations,\n",
        "\t# and the list of predictions from our face mask network\n",
        "\tfaces = []\n",
        "\tlocs = []\n",
        "\tpreds = []\n",
        "\n",
        "\t# loop over the detections\n",
        "\tfor i in range(0, detections.shape[2]):\n",
        "\t\t# extract the confidence (i.e., probability) associated with\n",
        "\t\t# the detection\n",
        "\t\tconfidence = detections[0, 0, i, 2]\n",
        "\n",
        "\t\t# filter out weak detections by ensuring the confidence is\n",
        "\t\t# greater than the minimum confidence\n",
        "\t\tif confidence > 0.5:\n",
        "\t\t\t# compute the (x, y)-coordinates of the bounding box for\n",
        "\t\t\t# the object\n",
        "\t\t\tbox = detections[0, 0, i, 3:7] * np.array([w, h, w, h])\n",
        "\t\t\t(startX, startY, endX, endY) = box.astype(\"int\")\n",
        "\n",
        "\t\t\t# ensure the bounding boxes fall within the dimensions of\n",
        "\t\t\t# the frame\n",
        "\t\t\t(startX, startY) = (max(0, startX), max(0, startY))\n",
        "\t\t\t(endX, endY) = (min(w - 1, endX), min(h - 1, endY))\n",
        "\n",
        "\t\t\t# extract the face ROI, convert it from BGR to RGB channel\n",
        "\t\t\t# ordering, resize it to 224x224, and preprocess it\n",
        "\t\t\tface = frame[startY:endY, startX:endX]\n",
        "\t\t\tface = cv2.cvtColor(face, cv2.COLOR_BGR2RGB)\n",
        "\t\t\tface = cv2.resize(face, (224, 224))\n",
        "\t\t\tface = img_to_array(face)\n",
        "\t\t\tface = preprocess_input(face)\n",
        "\t\t\tface = np.expand_dims(face, axis=0)\n",
        "\n",
        "\t\t\t# add the face and bounding boxes to their respective\n",
        "\t\t\t# lists\n",
        "\t\t\tfaces.append(face)\n",
        "\t\t\tlocs.append((startX, startY, endX, endY))\n",
        "\n",
        "\t# only make a predictions if at least one face was detected\n",
        "\tif len(faces) > 0:\n",
        "\t\t# for faster inference we'll make batch predictions on *all*\n",
        "\t\t# faces at the same time rather than one-by-one predictions\n",
        "\t\t# in the above `for` loop\n",
        "\t\tpreds = maskNet.predict(faces)\n",
        "\n",
        "\t# return a 2-tuple of the face locations and their corresponding\n",
        "\t# locations\n",
        "\treturn (locs, preds)\n",
        "\n",
        "# load our serialized face detector model from disk\n",
        "print(\"[INFO] loading face detector model...\")\n",
        "prototxtPath = \"/content/drive/My Drive/face-mask-detector/face_detector/deploy.prototxt\"\n",
        "weightsPath = \"/content/drive/My Drive/face-mask-detector/face_detector/res10_300x300_ssd_iter_140000.caffemodel\"\n",
        "faceNet = cv2.dnn.readNet(prototxtPath, weightsPath)\n",
        "\n",
        "# load the face mask detector model from disk\n",
        "print(\"[INFO] loading face mask detector model...\")\n",
        "maskNet = load_model(\"mask_detector.model\")\n",
        "\n",
        "# initialize the video stream and allow the camera sensor to warm up\n",
        "print(\"[INFO] starting video stream...\")\n",
        "file_path = input_video_path.split(\".\",1)\n",
        "vs = cv2.VideoCapture(input_video_path)\n",
        "length = int(vs.get(cv2.CAP_PROP_FRAME_COUNT))\n",
        "time.sleep(2.0)\n",
        "\n",
        "#checking video available or not\n",
        "grabbed, frame_flip = vs.read()\n",
        "if not(grabbed): print (\"INPUT VIDEO NOT FOUND!\")\n",
        "\n",
        "# loop over the frames from the video stream\n",
        "count = 0\n",
        "img_array = []\n",
        "while grabbed:\n",
        "\t(grabbed, frame) = vs.read()\n",
        "\tif not(grabbed): break\n",
        "\tif (count==0): print (\"[INFO] processing started...\")\n",
        "\tframe = imutils.resize(frame, width=400)\n",
        "  \n",
        "\t#Optional step (comment if not needed)\n",
        "\tframe = cv2.rotate(frame, cv2.ROTATE_180)\n",
        "\t\n",
        "\t(locs, preds) = detect_and_predict_mask(frame, faceNet, maskNet)\n",
        "\n",
        "\t# loop over the detected face locations and their corresponding\n",
        "\t# locations\n",
        "\tfor (box, pred) in zip(locs, preds):\n",
        "\t\t# unpack the bounding box and predictions\n",
        "\t\t(startX, startY, endX, endY) = box\n",
        "\t\t(mask, withoutMask) = pred\n",
        "\n",
        "\t\t# determine the class label and color we'll use to draw\n",
        "\t\t# the bounding box and text\n",
        "\t\tlabel = \"Mask\" if mask > withoutMask else \"No Mask\"\n",
        "\t\tcolor = (0, 255, 0) if label == \"Mask\" else (0, 0, 255)\n",
        "\n",
        "\t\t# include the probability in the label\n",
        "\t\tlabel = \"{}: {:.2f}%\".format(label, max(mask, withoutMask) * 100)\n",
        "\n",
        "\t\t# display the label and bounding box rectangle on the output\n",
        "\t\t# frame\n",
        "\t\tcv2.putText(frame, label, (startX, startY - 10),\n",
        "\t\t\tcv2.FONT_HERSHEY_SIMPLEX, 0.45, color, 2)\n",
        "\t\tcv2.rectangle(frame, (startX, startY), (endX, endY), color, 2)\n",
        "\t\n",
        "\t# cv2_imshow(frame)\n",
        "\theight, width, layers = frame.shape\n",
        "\tsize = (width,height)\n",
        "\timg_array.append(frame)\n",
        "\tprint (\"\\r[INFO] Count: {}/{}\".format(count, length),end='')\n",
        "\tcount+=1\n",
        "\n",
        "#Saving all output frames as MP4 video\n",
        "print (\"\\n[INFO] Saving video\")\n",
        "video = cv2.VideoWriter(file_path[0] + \"_OUTPUT.\" + file_path[-1], cv2.VideoWriter_fourcc(*'DIVX'), 30, size)\n",
        " \n",
        "for i in range(len(img_array)):\n",
        "    video.write(img_array[i])\n",
        "video.release()\n",
        "print (\"[INFO] process complete.\")\n",
        "\n",
        "# vs.stop()"
      ],
      "execution_count": null,
      "outputs": [
        {
          "output_type": "stream",
          "text": [
            "[INFO] loading face detector model...\n",
            "[INFO] loading face mask detector model...\n",
            "[INFO] starting video stream...\n",
            "[INFO] processing started...\n",
            "[INFO] Count: 289/291\n",
            "[INFO] Saving video\n",
            "[INFO] process complete.\n"
          ],
          "name": "stdout"
        }
      ]
    },
    {
      "cell_type": "markdown",
      "metadata": {
        "id": "cgbFKjPNM2UF"
      },
      "source": [
        "**Extract images from video (VIDEO -> IMAGES)**"
      ]
    },
    {
      "cell_type": "code",
      "metadata": {
        "id": "uijKwcJiLomI"
      },
      "source": [
        "import cv2\n",
        "\n",
        "# Opens the Video file\n",
        "cap= cv2.VideoCapture('/content/drive/My Drive/test_vid.mp4')\n",
        "i = 0\n",
        "j = 0\n",
        "while(cap.isOpened()):\n",
        "    ret, frame = cap.read()\n",
        "    # frame = cv2.rotate(frame, cv2.ROTATE_180)\n",
        "    if ret == False:\n",
        "        break\n",
        "    cv2.imwrite('/content/drive/My Drive/face-mask-detector/examples/testImg/test_image_'+str(i)+'.jpg',frame)\n",
        "    print (\"\\rCount: {}\".format(i),end='')\n",
        "    j+=1\n",
        "    i+=1\n",
        "\n",
        "# print (\"\\n[INFO] Next frame start with: {}\".format(i))\n",
        "print (\"\\n[INFO] Total frames: {}\".format(j))\n",
        "cap.release()\n",
        "cv2.destroyAllWindows()"
      ],
      "execution_count": null,
      "outputs": []
    },
    {
      "cell_type": "markdown",
      "metadata": {
        "id": "_s8RnmP0bN-L"
      },
      "source": [
        "#**Make a movie from images (IMAGES -> VIDEO)**"
      ]
    },
    {
      "cell_type": "code",
      "metadata": {
        "id": "fZ0RYaZ0PEig",
        "outputId": "ad099be8-9d6f-4b05-9588-8dedce12771e",
        "colab": {
          "base_uri": "https://localhost:8080/",
          "height": 69
        }
      },
      "source": [
        "import cv2\n",
        "import numpy as np\n",
        "import glob\n",
        "import pdb\n",
        "\n",
        "input_folder_path = '/content/drive/My Drive/face-mask-detector/examples/testImg/'\n",
        "\n",
        "#natural sorting\n",
        "x = os.listdir(input_folder_path)\n",
        "sorted_path = natsorted(x, key=lambda y: y.lower())\n",
        "length = len(sorted_path)\n",
        "count = 0\n",
        "img_array = []\n",
        "# for filename in glob.glob():\n",
        "for filename in sorted_path:\n",
        "    file_path = input_folder_path + filename\n",
        "    img = cv2.imread(file_path)\n",
        "    img = cv2.rotate(img, cv2.ROTATE_180)\n",
        "    height, width, layers = img.shape\n",
        "    size = (width,height)\n",
        "    img_array.append(img)\n",
        "    print (\"\\r[INFO] Count: {}/{}\".format(count, length),end='')\n",
        "    count+=1\n",
        "\n",
        "#Saving all output frames as MP4 video\n",
        "print (\"\\n[INFO] Saving video\")\n",
        "out = cv2.VideoWriter('/content/drive/My Drive/face-mask-detector/examples/testImg_OUTPUT.mp4',cv2.VideoWriter_fourcc(*'DIVX'), 30, size)\n",
        " \n",
        "for i in range(len(img_array)):\n",
        "    out.write(img_array[i])\n",
        "out.release()\n",
        "print (\"[INFO] process complete.\")"
      ],
      "execution_count": null,
      "outputs": [
        {
          "output_type": "stream",
          "text": [
            "[INFO] Count: 290/291\n",
            "[INFO] Saving video\n",
            "[INFO] process complete.\n"
          ],
          "name": "stdout"
        }
      ]
    }
  ]
}